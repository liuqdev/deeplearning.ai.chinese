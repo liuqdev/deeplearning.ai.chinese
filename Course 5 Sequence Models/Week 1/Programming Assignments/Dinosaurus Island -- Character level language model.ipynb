{
 "cells": [
  {
   "cell_type": "markdown",
   "metadata": {},
   "source": [
    "# 字母层次上的语言模型——龙之岛(Dinosaurus land)\n",
    "\n",
    "欢迎来到“龙之岛”(Dinosaurus Island)。6500万年钱，恐龙灭绝了，如今在这里，我们即将让其重生......由生物学家主导，创造除了新品种的恐龙，而你的任务就是为这些新品种的恐龙命名（你知道的，程序员最讨厌的就是命名了）。假如你给的新名字这些恐龙们不喜欢，哼哼......就有你好果子吃了，所以要努力起好听的名字。\n",
    "\n",
    "我们不是学了深度学习的一些东西嘛，今天刚好排上用场！\n",
    "任务很简单，这里研究人员已经帮你收集了他们可以找到用来当作恐龙的名字列表以供选择，"
   ]
  }
 ],
 "metadata": {
  "kernelspec": {
   "display_name": "Python 3",
   "language": "python",
   "name": "python3"
  },
  "language_info": {
   "codemirror_mode": {
    "name": "ipython",
    "version": 3
   },
   "file_extension": ".py",
   "mimetype": "text/x-python",
   "name": "python",
   "nbconvert_exporter": "python",
   "pygments_lexer": "ipython3",
   "version": "3.5.4"
  }
 },
 "nbformat": 4,
 "nbformat_minor": 0
}
